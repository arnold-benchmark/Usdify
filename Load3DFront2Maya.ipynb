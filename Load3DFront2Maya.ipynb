{
 "cells": [
  {
   "cell_type": "markdown",
   "id": "a5069148",
   "metadata": {},
   "source": [
    "## Notebook to import 3DFront dataset to Maya"
   ]
  },
  {
   "cell_type": "code",
   "execution_count": null,
   "id": "6fddc719",
   "metadata": {},
   "outputs": [],
   "source": [
    "### need to change this for each 3dfront houses\n",
    "houseLayoutIndex = 0"
   ]
  },
  {
   "cell_type": "code",
   "execution_count": null,
   "id": "9be8ae66",
   "metadata": {},
   "outputs": [],
   "source": [
    "from maya import *\n",
    "from controller import MayaController\n",
    "from param import args\n",
    "import numpy as np"
   ]
  },
  {
   "cell_type": "markdown",
   "id": "9b3087e4",
   "metadata": {},
   "source": [
    "### Perform the following instructions in Maya:\n",
    "\n",
    "1. Open maya server\n",
    "\n",
    "    import maya.cmds as cmds\n",
    "\n",
    "2. Open a command port with the default name \"mayaCommand\".\n",
    "\n",
    "    cmds.commandPort(n=\"localhost:12345\")\n",
    "\n",
    "    import sys \n",
    "    \n",
    "    omniverse_plugin_path = 'OMNIVERSE_PLUGIN_PATH (e.g. D:/omniverse/lib/maya-connector-102.4.0/20190/scripts)'\n",
    "\n",
    "    sys.path.append(omniverse_plugin_path)\n",
    "    from testcases import *\n"
   ]
  },
  {
   "cell_type": "code",
   "execution_count": null,
   "id": "4fe62169",
   "metadata": {},
   "outputs": [],
   "source": [
    "### Connect to Maya\n",
    "mc = MayaController(PORT=12345)\n",
    "mc.SendPythonCommand(\"from maya.api import OpenMaya\")"
   ]
  },
  {
   "cell_type": "code",
   "execution_count": null,
   "id": "c7351cfd",
   "metadata": {},
   "outputs": [],
   "source": [
    "### directory of meshes\n",
    "shapeLocalSource = \"E://Temp/3Dfront/3D-FUTURE-model/\"\n",
    "\n",
    "### House layout json example\n",
    "houseLayoutSource = \"E://Temp/3Dfront/3D-FRONT/\"\n",
    "allHouseLayouts = os.listdir(houseLayoutSource)"
   ]
  },
  {
   "cell_type": "code",
   "execution_count": null,
   "id": "dcbe29d3",
   "metadata": {},
   "outputs": [],
   "source": [
    "IN_METER = False"
   ]
  },
  {
   "cell_type": "code",
   "execution_count": null,
   "id": "54e5ade1",
   "metadata": {},
   "outputs": [],
   "source": [
    "### Set new scene\n",
    "mc.SetNewScene()\n",
    "# if IN_METER:\n",
    "#     mc.SendCommand('currentUnit -linear \"meter\";')"
   ]
  },
  {
   "cell_type": "code",
   "execution_count": null,
   "id": "43a3efab",
   "metadata": {},
   "outputs": [],
   "source": [
    "### Load room layout json\n",
    "houseLayoutFile = os.path.join(houseLayoutSource, allHouseLayouts[houseLayoutIndex])\n",
    "with open(houseLayoutFile) as f: sceneDict = json.load(f)"
   ]
  },
  {
   "cell_type": "code",
   "execution_count": null,
   "id": "c66c1a10",
   "metadata": {},
   "outputs": [],
   "source": [
    "print(sceneDict.keys())"
   ]
  },
  {
   "cell_type": "code",
   "execution_count": null,
   "id": "95959511",
   "metadata": {},
   "outputs": [],
   "source": [
    "### Extract info\n",
    "instance_table = create_instance_table(sceneDict)\n",
    "mesh_table = create_mesh_table(sceneDict)\n",
    "material_table = create_material_table(sceneDict)\n",
    "furniture_table = create_furniture_table(sceneDict)"
   ]
  },
  {
   "cell_type": "code",
   "execution_count": null,
   "id": "591a2206",
   "metadata": {},
   "outputs": [],
   "source": [
    "### Join information tables\n",
    "mesh_material = join(mesh_table, material_table, 'material_id', 'id', 'material_')\n",
    "mesh_all = join(mesh_material, instance_table, 'id', 'ref', 'instance_')\n",
    "furniture_all = join(furniture_table, instance_table, 'id', 'ref', 'instance_')"
   ]
  },
  {
   "cell_type": "code",
   "execution_count": null,
   "id": "542151ae",
   "metadata": {},
   "outputs": [],
   "source": [
    "furniture_list = list(zip(furniture_all['jid'], furniture_all['position'], furniture_all['rotation'], furniture_all['scale']))"
   ]
  },
  {
   "cell_type": "code",
   "execution_count": null,
   "id": "368599a9",
   "metadata": {},
   "outputs": [],
   "source": [
    "sceneDict['scene']"
   ]
  },
  {
   "cell_type": "code",
   "execution_count": null,
   "id": "294cde22",
   "metadata": {},
   "outputs": [],
   "source": [
    "def int_to_color_rgba_array(_color) -> Tuple[float, float, float, float]:\n",
    "    _color_array = [(_color & 0x00ff0000) >> 16, (_color & 0x0000ff00) >> 8, (_color & 0x000000ff) >> 0, (_color & 0xff000000) >> 24, ]\n",
    "    return tuple(map(lambda e: e / 255, _color_array))"
   ]
  },
  {
   "cell_type": "code",
   "execution_count": null,
   "id": "7da18aff",
   "metadata": {
    "scrolled": true
   },
   "outputs": [],
   "source": [
    "np.array(int_to_color_rgba_array(1421533398879795))"
   ]
  },
  {
   "cell_type": "code",
   "execution_count": null,
   "id": "29e5a107",
   "metadata": {},
   "outputs": [],
   "source": [
    "### create an empty group node with no children\n",
    "mc.SendPythonCommand(\"cmds.group( em=True, name='structure')\")\n",
    "mc.SendPythonCommand(\"cmds.group( em=True, name='ceilings')\")\n",
    "mc.SendPythonCommand(\"cmds.group( em=True, name='floors')\")\n",
    "mc.SendPythonCommand(\"cmds.group( em=True, name='windows')\")\n",
    "mc.SendPythonCommand(\"cmds.group( em=True, name='doors')\")"
   ]
  },
  {
   "cell_type": "code",
   "execution_count": null,
   "id": "e398cba3",
   "metadata": {},
   "outputs": [],
   "source": [
    "mesh_all['type']"
   ]
  },
  {
   "cell_type": "code",
   "execution_count": null,
   "id": "212283db",
   "metadata": {
    "scrolled": true
   },
   "outputs": [],
   "source": [
    "merge_list = []\n",
    "for index, mesh in enumerate(zip(mesh_all['id'], mesh_all['type'], mesh_all['xyz'], \n",
    "                                     mesh_all['normal'], mesh_all['uv'], mesh_all['face'], mesh_all['color'])):             \n",
    "#     if index <= 50:\n",
    "#         continue\n",
    "        \n",
    "#     if index > 500:\n",
    "#         break\n",
    "#     if np.random.rand() < 0.8:\n",
    "#         continue\n",
    "    \n",
    "    # Select the current set of objects\n",
    "    mc.SendPythonCommand('cmds.select(all = True, hierarchy = True)')\n",
    "    mc.SendPythonCommand('currentObjs = cmds.ls(selection = True )')\n",
    "\n",
    "    id_, type_, xyz, normal, uv, face, color = mesh\n",
    "    xyz = np.array(xyz.tolist()).astype(np.float)\n",
    "    normal = np.array(normal.tolist()).astype(np.float)\n",
    "    uv = np.array(uv.tolist()).astype(np.float)\n",
    "    face = np.array(face.tolist()).astype(np.int)\n",
    "    \n",
    "#     if type_ != \"Floor\":\n",
    "#         continue\n",
    "\n",
    "    vertices = xyz.T.tolist()\n",
    "    faces = face.T.tolist()\n",
    "    \n",
    "    vertices, faces = fix_vertices_and_faces(vertices, faces)\n",
    "    # print(vertices,faces)\n",
    "    \n",
    "    mc.SendPythonCommand(\"meshFn = OpenMaya.MFnMesh()\")\n",
    "    \n",
    "#     time.sleep(0.1)\n",
    "\n",
    "    code_multiLine = \"\"\"\n",
    "vertices = []\n",
    "polygonFaces = []\n",
    "polygonConnects = [] \n",
    "# print(vertices)\n",
    "    \"\"\".replace(\"\\n\",r\"\\n\")  \n",
    "\n",
    "    message = 'python(\"{}\")'.format(code_multiLine)\n",
    "    mc.SendCommand(message)\n",
    "\n",
    "#     time.sleep(0.1)\n",
    "\n",
    "    for v in vertices:\n",
    "        x,y,z = v\n",
    "        code_multiLine = f\"\"\"vertices.append(OpenMaya.MPoint({x}, {y}, {z}))\"\"\".replace(\"\\n\",r\"\\n\")  \n",
    "        #print(code_multiLine)\n",
    "        message = 'python(\"{}\")'.format(code_multiLine)\n",
    "        mc.SendCommand(message)\n",
    "\n",
    "    for f in faces:\n",
    "        code_multiLine = f\"\"\"polygonFaces.append({len(f)})\"\"\"\n",
    "        #code_multiLine = f\"\"\"polygonConnects += {f}\"\"\"\n",
    "        # print(code_multiLine)\n",
    "        message = 'python(\"{}\")'.format(code_multiLine)\n",
    "        mc.SendCommand(message)\n",
    "\n",
    "    for f in faces:\n",
    "        # code_multiLine = f\"\"\"polygonFaces.append({len(f)})\"\"\"\n",
    "        code_multiLine = f\"\"\"polygonConnects += {f}\"\"\"\n",
    "        # print(code_multiLine)\n",
    "        message = 'python(\"{}\")'.format(code_multiLine)\n",
    "        mc.SendCommand(message)\n",
    "\n",
    "    # Select and rename the newly added mesh\n",
    "    mc.SendPythonCommand(\"meshFn.create(vertices, polygonFaces, polygonConnects)\")\n",
    "    mc.SendPythonCommand(f\"cmds.sets(meshFn.name(), edit=True, forceElement=\\\\'initialShadingGroup\\\\')\")\n",
    "\n",
    "    #mc.SendPythonCommand('cmds.select(all = True)')\n",
    "    #mc.SendPythonCommand('cmds.select(currentObjs, deselect = True)')\n",
    "    #mc.SendPythonCommand('newObjs = cmds.ls(selection = True, transforms = True )')\n",
    "    mc.SendPythonCommand(\"show_name = cmds.listRelatives(meshFn.name(), fullPath=True, parent=True)[0]\")\n",
    "    mc.SendPythonCommand(f\"cmds.rename(show_name,'{type_}_{index}')\")\n",
    "    \n",
    "    # Hide object if it is a ceiling\n",
    "    if \"Ceiling\" in type_:\n",
    "        mc.SendPythonCommand(f\"cmds.parent( '{type_}_{index}', 'ceilings' )\")\n",
    "        mc.SendPythonCommand(\"cmds.hide()\")\n",
    "    elif \"Floor\" in type_:\n",
    "        # if len(vertices) < 20:\n",
    "            # mc.SendCommand(f\"select -r {type_}_{index};\")\n",
    "            # mc.SendCommand(retopology_cmd)\n",
    "            #time.sleep(2)\n",
    "        mc.SendPythonCommand(f\"cmds.polyProjection('{type_}_{index}.f[0:]', type='Planar', md='y' )\")\n",
    "        mc.SendPythonCommand(f\"cmds.parent( '{type_}_{index}', 'floors' )\")\n",
    "    elif \"Window\" in type_:\n",
    "        mc.SendPythonCommand(f\"cmds.parent( '{type_}_{index}', 'windows' )\")\n",
    "    else:\n",
    "        mc.SendPythonCommand(f\"cmds.parent( '{type_}_{index}', 'structure' )\")\n",
    "        merge_list.append(f'{type_}_{index}')\n",
    "    # break"
   ]
  },
  {
   "cell_type": "markdown",
   "id": "f230dac3",
   "metadata": {},
   "source": [
    "### Pause - make sure the above section ran successfully"
   ]
  },
  {
   "cell_type": "code",
   "execution_count": null,
   "id": "9c00ffd5",
   "metadata": {},
   "outputs": [],
   "source": [
    "mc.SendPythonCommand(\"cmds.group( em=True, name='furniture')\")\n",
    "mc.SendPythonCommand(\"cmds.group( em=True, name='lights')\")"
   ]
  },
  {
   "cell_type": "code",
   "execution_count": null,
   "id": "49d108fe",
   "metadata": {},
   "outputs": [],
   "source": [
    "# furniture_all['scale']"
   ]
  },
  {
   "cell_type": "code",
   "execution_count": null,
   "id": "16cd0bee",
   "metadata": {},
   "outputs": [],
   "source": [
    "for index, furniture in enumerate(zip(furniture_all['id'], furniture_all['jid'], furniture_all['position'], furniture_all['rotation'], furniture_all['scale'])):\n",
    "    \n",
    "#     if index > 10:\n",
    "#         break\n",
    "    \n",
    "    fid, jid, position, rotation, scale = furniture\n",
    "    raw_model_path = os.path.join(shapeLocalSource, jid, 'raw_model.obj').replace(\"\\\\\",\"/\")\n",
    "    texture_path = os.path.join(shapeLocalSource, jid, 'texture.png').replace(\"\\\\\",\"/\")\n",
    "#     print(raw_model_path, os.path.exists(raw_model_path))\n",
    "#     print(texture_path, os.path.exists(texture_path))\n",
    "    \n",
    "#     if scale[0] == 1:\n",
    "#         #print(fid, jid, position, rotation, scale)\n",
    "#         continue\n",
    "    \n",
    "    if  os.path.exists(raw_model_path) and os.path.exists(texture_path):\n",
    "        fid = fid.split(\"/\")[0]\n",
    "        \n",
    "          # If y position > 1, we see this as a light\n",
    "        if position[1] > 1:\n",
    "            mc.SendPythonCommand(f\"cmds.pointLight(position=[{position[0]},{position[1]},{position[2]}], name = 'light_{fid}', intensity=20)\")\n",
    "            mc.SendPythonCommand(f\"cmds.parent( 'light_{fid}', 'lights' )\")\n",
    "            \n",
    "        # print(fid)\n",
    "        mc.SendPythonCommand(f\"cmds.file('{raw_model_path}', i=True, gr=True, gn='furniture_group', mergeNamespacesOnClash=True, namespace='component_{fid}')\")\n",
    "        mc.SetObjectWorldTransform('furniture_group', position)\n",
    "        # print(\"rotation: \", euler_from_quaternion(*rotation), rotation)\n",
    "        mc.SetObjectLocalRotation('furniture_group',np.rad2deg(euler_from_quaternion(*rotation)))\n",
    "        #mc.SetObjectAttribute(\"furniture_group\", \"scaleX\", )\n",
    "        \n",
    "        # print(\"scale\", scale)\n",
    "        mc.SetObjectAttribute(\"furniture_group\", \"scaleX\", scale[0])\n",
    "        mc.SetObjectAttribute(\"furniture_group\", \"scaleY\", scale[1])\n",
    "        mc.SetObjectAttribute(\"furniture_group\", \"scaleZ\", scale[2])\n",
    "        \n",
    "        mc.SendPythonCommand(f\"cmds.parent( 'furniture_group', 'furniture' )\")\n",
    "        mc.SendPythonCommand(f\"cmds.rename('furniture_group', 'furniture_{fid}')\") \n",
    "\n",
    "        # break\n",
    "        \n",
    "    "
   ]
  },
  {
   "cell_type": "code",
   "execution_count": null,
   "id": "885a0727",
   "metadata": {},
   "outputs": [],
   "source": [
    "#if IN_METER:\n",
    "mc.SendPythonCommand(f\"cmds.scale(100, 100, 100, ['furniture','lights','structure','ceilings', 'floors', 'windows', 'doors'])\")"
   ]
  },
  {
   "cell_type": "code",
   "execution_count": null,
   "id": "7cfe45fc",
   "metadata": {},
   "outputs": [],
   "source": [
    "merge_command = \"polyUnite -ch 1 -mergeUVSets 1 -centerPivot -name roomStruct \"\n",
    "\n",
    "for poly_surface in merge_list:\n",
    "    merge_command += poly_surface + \" \"\n",
    "\n",
    "merge_command += \";\"\n",
    "\n",
    "mc.SendCommand(merge_command)\n",
    "\n",
    "mc.SendCommand(\"polyTriangulate -ch 1 roomStruct\")\n",
    "\n",
    "mc.SendCommand(\"DeleteHistory;\")\n",
    "\n",
    "# mc.SendCommand(\"polyTriangulate -ch 1 windows\")\n",
    "mc.SendCommand(\"polyTriangulate -ch 1 floors\")\n",
    "mc.SendCommand(\"polyTriangulate -ch 1 furniture\")\n",
    "\n",
    "# mc.SendCommand(\"polyTriangulate -ch 1 ceilings\")\n",
    "# mc.SendCommand(\"polyTriangulate -ch 1 doors\")\n"
   ]
  },
  {
   "cell_type": "code",
   "execution_count": null,
   "id": "4f086a25",
   "metadata": {},
   "outputs": [],
   "source": [
    "# outputUSDPath = os.path.join(\"E:/researches/VRKitchen2.0/sample/\", str(houseLayoutIndex))\n",
    "# if not os.path.exists(outputUSDPath):\n",
    "#     os.mkdir(outputUSDPath)"
   ]
  },
  {
   "cell_type": "code",
   "execution_count": null,
   "id": "2cf27bf0",
   "metadata": {},
   "outputs": [],
   "source": [
    "### export usd\n",
    "code_multiLine = f\"\"\"\n",
    "folder = OmniTC_BaseFolder + '/{str(houseLayoutIndex)}'\n",
    "OmniTC_MakeFolderExistAndClean(folder)\n",
    "OmniTC_MakeSureConnected()\n",
    "fn = folder + '/layout.usd'\n",
    "\"\"\".replace(\"\\n\",r\"\\n\")  "
   ]
  },
  {
   "cell_type": "code",
   "execution_count": null,
   "id": "801c2f90",
   "metadata": {
    "scrolled": true
   },
   "outputs": [],
   "source": [
    "mc.SendPythonCommand(code_multiLine)"
   ]
  },
  {
   "cell_type": "code",
   "execution_count": null,
   "id": "c0d9fa6e",
   "metadata": {},
   "outputs": [],
   "source": [
    "mc.SendCommand('optionVar -iv \"omniverse_export_split_files\" 0;')"
   ]
  },
  {
   "cell_type": "code",
   "execution_count": null,
   "id": "fa15909a",
   "metadata": {},
   "outputs": [],
   "source": [
    "mc.SendPythonCommand('cmds.OmniExportCmd(f=fn)')"
   ]
  },
  {
   "cell_type": "code",
   "execution_count": null,
   "id": "832ccb72",
   "metadata": {},
   "outputs": [],
   "source": []
  }
 ],
 "metadata": {
  "kernelspec": {
   "display_name": "Python 3 (ipykernel)",
   "language": "python",
   "name": "python3"
  },
  "language_info": {
   "codemirror_mode": {
    "name": "ipython",
    "version": 3
   },
   "file_extension": ".py",
   "mimetype": "text/x-python",
   "name": "python",
   "nbconvert_exporter": "python",
   "pygments_lexer": "ipython3",
   "version": "3.9.5"
  }
 },
 "nbformat": 4,
 "nbformat_minor": 5
}
